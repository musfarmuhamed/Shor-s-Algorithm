{
 "cells": [
  {
   "cell_type": "code",
   "execution_count": null,
   "id": "028592b9-2d45-4d3e-a61a-730de412a077",
   "metadata": {},
   "outputs": [],
   "source": []
  },
  {
   "cell_type": "code",
   "execution_count": 1,
   "id": "f617a6d6-64eb-4802-8c71-2ae14f333e18",
   "metadata": {},
   "outputs": [],
   "source": [
    "import QuantumRingsLib\n",
    "from QuantumRingsLib import QuantumRegister, AncillaRegister, ClassicalRegister, QuantumCircuit\n",
    "from QuantumRingsLib import QuantumRingsProvider\n",
    "from QuantumRingsLib import job_monitor\n",
    "from QuantumRingsLib import JobStatus\n",
    "from matplotlib import pyplot as plt\n",
    "import numpy as np\n",
    "import math\n",
    "from math import gcd\n",
    "from random import randint, shuffle\n",
    "from semiprimes import semiprimes\n",
    "\n",
    "  \n",
    "provider = QuantumRingsProvider(token =<YOUR_TOKEN_HERE>, name=<YOUR_ACCOUNT_NAME_HERE>)\n",
    "backend = provider.get_backend(\"scarlet_quantum_rings\")\n",
    "shots = 1024\n",
    "\n",
    "#provider.active_account()"
   ]
  },
  {
   "cell_type": "code",
   "execution_count": null,
   "id": "02a37435-c607-49b8-8894-f5353e5ab8e1",
   "metadata": {},
   "outputs": [],
   "source": []
  },
  {
   "cell_type": "code",
   "execution_count": 2,
   "id": "dc2be924-64e1-4d08-8bb5-db5ffa954f57",
   "metadata": {},
   "outputs": [],
   "source": [
    "def modular_exponentiation(base, exp, mod):\n",
    "    \"\"\"Compute (base^exp) % mod efficiently.\"\"\"\n",
    "    result = 1\n",
    "    base = base % mod\n",
    "    while exp > 0:\n",
    "        if exp % 2 == 1:\n",
    "            result = (result * base) % mod\n",
    "        exp //= 2\n",
    "        base = (base * base) % mod\n",
    "    return result\n"
   ]
  },
  {
   "cell_type": "code",
   "execution_count": 3,
   "id": "f1dc19c8-6935-438f-9c41-9bf4e186f64a",
   "metadata": {},
   "outputs": [],
   "source": [
    "def quantum_fourier_transform(n):\n",
    "    \"\"\"Create QFT circuit.\"\"\"\n",
    "    qc = QuantumCircuit(n)\n",
    "    for i in range(n):\n",
    "        qc.h(i)\n",
    "        for j in range(i+1, n):\n",
    "            qc.cp(2*np.pi/2**(j-i+1), i, j)\n",
    "    return qc\n"
   ]
  },
  {
   "cell_type": "code",
   "execution_count": 4,
   "id": "91deeb27-f975-443b-9c8d-7842195abfb6",
   "metadata": {},
   "outputs": [],
   "source": [
    "def extract_period(counts, N, a):\n",
    "    \"\"\"Extract period r where a^r ≡ 1 (mod N)\"\"\"\n",
    "    # First find quantum measurement differences\n",
    "    measured_values = [int(key, 2) for key in counts.keys()]\n",
    "    measured_values.sort()\n",
    "    \n",
    "    # Calculate possible periods from measurements\n",
    "    periods = []\n",
    "    for i in range(1, len(measured_values)):\n",
    "        r = measured_values[i] - measured_values[i-1]\n",
    "        if r > 0:\n",
    "            periods.append(r)\n",
    "    \n",
    "    # Verify each candidate period\n",
    "    for r in periods:\n",
    "        if modular_exponentiation(a, r, N) == 1:\n",
    "            return r\n",
    "            \n",
    "    # Direct period calculation if measurement fails\n",
    "    for r in range(1, N):\n",
    "        if modular_exponentiation(a, r, N) == 1:\n",
    "            return r\n",
    "            \n",
    "    return None\n"
   ]
  },
  {
   "cell_type": "code",
   "execution_count": 5,
   "id": "7311db40-0f18-4c0b-b3c0-aa366b4e13a5",
   "metadata": {},
   "outputs": [],
   "source": [
    "def run_shor_algorithm(N, a):\n",
    "    \"\"\"Run Shor's algorithm.\"\"\"\n",
    "    if gcd(a, N) != 1:\n",
    "        return gcd(a, N), N // gcd(a, N)\n",
    "\n",
    "    # Create quantum circuit\n",
    "    n_count = 8  # Number of counting qubits\n",
    "    num_target_qubits = int(np.ceil(np.log2(N)))\n",
    "    \n",
    "    qc = QuantumCircuit(n_count + num_target_qubits, n_count)\n",
    "    \n",
    "    # Initialize counting qubits\n",
    "    for q in range(n_count):\n",
    "        qc.h(q)\n",
    "    qc.barrier()\n",
    "    \n",
    "    # Controlled modular multiplication\n",
    "    for i in range(n_count):\n",
    "        power = 2**i\n",
    "        for target in range(num_target_qubits):\n",
    "            factor = pow(a, power, N)\n",
    "            angle = 2 * np.pi * factor / N\n",
    "            qc.cp(angle, i, n_count + target)\n",
    "    qc.barrier()\n",
    "    \n",
    "    # Inverse QFT\n",
    "    for i in reversed(range(n_count)):\n",
    "        for j in range(i):\n",
    "            qc.cp(-np.pi/2**(i-j), j, i)\n",
    "        qc.h(i)\n",
    "    qc.barrier()\n",
    "    \n",
    "    # Measure\n",
    "    qc.measure(range(n_count), range(n_count))\n",
    "    #print(qc.draw())\n",
    "    \n",
    "    # Execute\n",
    "    job = backend.run(qc, shots=shots)\n",
    "    job_monitor(job)\n",
    "    result = job.result()\n",
    "    counts = result.get_counts()\n",
    "\n",
    "    # simulator = AerSimulator()\n",
    "    # job = simulator.run(transpile(qc, simulator), shots=1024)\n",
    "    # counts = job.result().get_counts()\n",
    "    \n",
    "        # Extract period - Updated to pass 'a'\n",
    "    r = extract_period(counts, N, a)\n",
    "    if not r:\n",
    "        return None, None\n",
    "        \n",
    "    if r % 2 != 0:\n",
    "        return None, None\n",
    "        \n",
    "    factor1 = gcd(modular_exponentiation(a, r//2, N) - 1, N)\n",
    "    factor2 = gcd(modular_exponentiation(a, r//2, N) + 1, N)\n",
    "    \n",
    "    if factor1 * factor2 != N:\n",
    "        return None, None\n",
    "\n",
    "    return factor1, factor2\n"
   ]
  },
  {
   "cell_type": "code",
   "execution_count": 6,
   "id": "76e451c4-cc13-45e2-9ec8-8370cd913793",
   "metadata": {},
   "outputs": [],
   "source": [
    "def shor_for_random_a(N):\n",
    "\n",
    "    ran1=0\n",
    "    ran2=0\n",
    "\n",
    "    deck = list(range(2, int(np.sqrt(N))))\n",
    "    shuffle(deck)\n",
    "\n",
    "    while len(deck)!=0:\n",
    "        a = deck.pop()\n",
    "        if gcd(a,N)!=a:\n",
    "            continue\n",
    "\n",
    "        print(\"a =\",a)\n",
    "        factors = run_shor_algorithm(N, a)\n",
    "        \n",
    "        if factors and factors[0] and factors[1]:\n",
    "            \n",
    "            if factors[0]!=1 and factors[1]!=1:\n",
    "                print(f\"Factors of {N} are: {factors[0]} and {factors[1]}, with a = {a}\")\n",
    "                return factors\n",
    "            else:\n",
    "                print(f\"Failed to find factor of {N} with a = {a}. Try again.\")\n",
    "                \n",
    "        else:\n",
    "            print(f\"Failed to find factor of {N} with a = {a}. Try again.\")\n",
    "        ran2+=1"
   ]
  },
  {
   "cell_type": "code",
   "execution_count": 7,
   "id": "2f68d9ce-1cc8-444c-a382-76657729810a",
   "metadata": {},
   "outputs": [
    {
     "data": {
      "text/plain": [
       "125"
      ]
     },
     "execution_count": 7,
     "metadata": {},
     "output_type": "execute_result"
    }
   ],
   "source": [
    "len(semiprimes)"
   ]
  },
  {
   "cell_type": "code",
   "execution_count": 8,
   "id": "793f2be0-502b-4705-bc5e-908c94977b5e",
   "metadata": {},
   "outputs": [
    {
     "data": {
      "text/plain": [
       "dict_keys([8, 10, 12, 14, 16, 18, 20, 22, 24, 26, 28, 30, 32, 34, 36, 38, 40, 42, 44, 46, 48, 50, 52, 54, 56, 58, 60, 62, 64, 66, 68, 70, 72, 74, 76, 78, 80, 82, 84, 86, 88, 90, 92, 94, 96, 98, 100, 102, 104, 106, 108, 110, 112, 114, 116, 118, 120, 122, 124, 126, 128, 130, 132, 134, 136, 138, 140, 142, 144, 146, 148, 150, 152, 154, 156, 158, 160, 162, 164, 166, 168, 170, 172, 174, 176, 178, 180, 182, 184, 186, 188, 190, 192, 194, 196, 198, 200, 202, 204, 206, 208, 210, 212, 214, 216, 218, 220, 222, 224, 226, 228, 230, 232, 234, 236, 238, 240, 242, 244, 246, 248, 250, 252, 254, 256])"
      ]
     },
     "execution_count": 8,
     "metadata": {},
     "output_type": "execute_result"
    }
   ],
   "source": [
    "semiprimes.keys()"
   ]
  },
  {
   "cell_type": "code",
   "execution_count": 9,
   "id": "47d086c2-5b1a-43ec-bc33-d5ede2644ce8",
   "metadata": {},
   "outputs": [],
   "source": [
    "keys_list = list(semiprimes.keys())"
   ]
  },
  {
   "cell_type": "code",
   "execution_count": 10,
   "id": "303a4738-d503-4f1d-ac2d-deb20f04a31c",
   "metadata": {},
   "outputs": [],
   "source": [
    "keys_used = keys_list[2:22]"
   ]
  },
  {
   "cell_type": "code",
   "execution_count": 11,
   "id": "679588ad-fe5b-4216-8bae-ca10f6811ff0",
   "metadata": {},
   "outputs": [
    {
     "data": {
      "text/plain": [
       "[12,\n",
       " 14,\n",
       " 16,\n",
       " 18,\n",
       " 20,\n",
       " 22,\n",
       " 24,\n",
       " 26,\n",
       " 28,\n",
       " 30,\n",
       " 32,\n",
       " 34,\n",
       " 36,\n",
       " 38,\n",
       " 40,\n",
       " 42,\n",
       " 44,\n",
       " 46,\n",
       " 48,\n",
       " 50]"
      ]
     },
     "execution_count": 11,
     "metadata": {},
     "output_type": "execute_result"
    }
   ],
   "source": [
    "keys_used"
   ]
  },
  {
   "cell_type": "code",
   "execution_count": 11,
   "id": "1090f083-c343-4231-8017-4fed3c04022f",
   "metadata": {},
   "outputs": [
    {
     "name": "stdout",
     "output_type": "stream",
     "text": [
      "base  12 \n",
      " N =  3127\n",
      "a = 53\n",
      "Factors of 3127 are: 53 and 59, with a = 53\n",
      "\n",
      "\n",
      "base  14 \n",
      " N =  11009\n",
      "a = 101\n",
      "Factors of 11009 are: 101 and 109, with a = 101\n",
      "\n",
      "\n",
      "base  16 \n",
      " N =  47053\n",
      "a = 211\n",
      "Factors of 47053 are: 211 and 223, with a = 211\n",
      "\n",
      "\n",
      "base  18 \n",
      " N =  167659\n",
      "a = 389\n",
      "Factors of 167659 are: 389 and 431, with a = 389\n",
      "\n",
      "\n",
      "base  20 \n",
      " N =  744647\n",
      "a = 821\n",
      "Factors of 744647 are: 821 and 907, with a = 821\n",
      "\n",
      "\n",
      "base  22 \n",
      " N =  3036893\n",
      "a = 1709\n",
      "Factors of 3036893 are: 1709 and 1777, with a = 1709\n",
      "\n",
      "\n",
      "base  24 \n",
      " N =  11426971\n",
      "a = 3191\n",
      "Factors of 11426971 are: 3191 and 3581, with a = 3191\n",
      "\n",
      "\n",
      "base  26 \n",
      " N =  58949987\n",
      "a = 7333\n",
      "Factors of 58949987 are: 7333 and 8039, with a = 7333\n",
      "\n",
      "\n",
      "base  28 \n",
      " N =  208241207\n",
      "a = 13241\n",
      "Factors of 208241207 are: 13241 and 15727, with a = 13241\n",
      "\n",
      "\n",
      "base  30 \n",
      " N =  857830637\n",
      "a = 29167\n",
      "Factors of 857830637 are: 29167 and 29411, with a = 29167\n",
      "\n",
      "\n",
      "base  32 \n",
      " N =  2776108693\n",
      "a = 52027\n",
      "Factors of 2776108693 are: 52027 and 53359, with a = 52027\n",
      "\n",
      "\n",
      "base  34 \n",
      " N =  11455067797\n",
      "a = 104849\n",
      "Factors of 11455067797 are: 104849 and 109253, with a = 104849\n",
      "\n",
      "\n",
      "base  36 \n",
      " N =  52734393667\n",
      "a = 201437\n",
      "Factors of 52734393667 are: 201437 and 261791, with a = 201437\n",
      "\n",
      "\n",
      "base  38 \n",
      " N =  171913873883\n",
      "a = 395287\n",
      "Factors of 171913873883 are: 395287 and 434909, with a = 395287\n",
      "\n",
      "\n",
      "base  40 \n",
      " N =  862463409547\n",
      "a = 903017\n",
      "Factors of 862463409547 are: 903017 and 955091, with a = 903017\n",
      "\n",
      "\n",
      "base  42 \n",
      " N =  2830354423669\n",
      "a = 1613279\n",
      "Factors of 2830354423669 are: 1613279 and 1754411, with a = 1613279\n",
      "\n",
      "\n",
      "base  44 \n",
      " N =  12942106192073\n",
      "a = 3227507\n",
      "Factors of 12942106192073 are: 3227507 and 4009939, with a = 3227507\n",
      "\n",
      "\n",
      "base  46 \n",
      " N =  53454475917779\n",
      "a = 6982463\n",
      "Factors of 53454475917779 are: 6982463 and 7655533, with a = 6982463\n",
      "\n",
      "\n",
      "base  48 \n",
      " N =  255975740711783\n",
      "a = 15694933\n",
      "Factors of 255975740711783 are: 15694933 and 16309451, with a = 15694933\n",
      "\n",
      "\n",
      "base  50 \n",
      " N =  696252032788709\n",
      "a = 25270489\n",
      "Factors of 696252032788709 are: 25270489 and 27551981, with a = 25270489\n",
      "\n",
      "\n"
     ]
    }
   ],
   "source": [
    "for key in keys_used:\n",
    "    N=semiprimes[key]\n",
    "    print(\"base \",key,\"\\n N = \", N)\n",
    "    \n",
    "    shor_for_random_a(N)\n",
    "    print(\"\\n\")\n"
   ]
  },
  {
   "cell_type": "code",
   "execution_count": 12,
   "id": "49a5260f-ff17-41b4-8749-c3c10e40847e",
   "metadata": {},
   "outputs": [
    {
     "name": "stdout",
     "output_type": "stream",
     "text": [
      "base  52 \n",
      " N =  3622511636491483\n",
      "a = 60070589\n",
      "Factors of 3622511636491483 are: 60070589 and 60304247, with a = 60070589\n"
     ]
    },
    {
     "data": {
      "text/plain": [
       "(60070589, 60304247)"
      ]
     },
     "execution_count": 12,
     "metadata": {},
     "output_type": "execute_result"
    }
   ],
   "source": [
    "key=52\n",
    "N=semiprimes[key]\n",
    "print(\"base \",key,\"\\n N = \", N)\n",
    "shor_for_random_a(N)"
   ]
  },
  {
   "cell_type": "code",
   "execution_count": null,
   "id": "6323fcc4-82b0-47cd-971c-b07a6309ff8f",
   "metadata": {},
   "outputs": [],
   "source": []
  },
  {
   "cell_type": "code",
   "execution_count": null,
   "id": "01b0dd51-bf66-4fcf-9119-f66aa534727d",
   "metadata": {},
   "outputs": [],
   "source": []
  },
  {
   "cell_type": "code",
   "execution_count": null,
   "id": "52b6f0e5-e8b0-4bf4-877d-b2e6242631f4",
   "metadata": {},
   "outputs": [],
   "source": []
  }
 ],
 "metadata": {
  "kernelspec": {
   "display_name": "Python 3 QuantumRings",
   "language": "python",
   "name": "python3_quantu_8bt6c1"
  },
  "language_info": {
   "codemirror_mode": {
    "name": "ipython",
    "version": 3
   },
   "file_extension": ".py",
   "mimetype": "text/x-python",
   "name": "python",
   "nbconvert_exporter": "python",
   "pygments_lexer": "ipython3",
   "version": "3.11.9"
  }
 },
 "nbformat": 4,
 "nbformat_minor": 5
}
