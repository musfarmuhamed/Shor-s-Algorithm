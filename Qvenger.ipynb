{
 "cells": [
  {
   "cell_type": "code",
   "execution_count": null,
   "id": "028592b9-2d45-4d3e-a61a-730de412a077",
   "metadata": {},
   "outputs": [],
   "source": []
  },
  {
   "cell_type": "code",
   "execution_count": null,
   "id": "f617a6d6-64eb-4802-8c71-2ae14f333e18",
   "metadata": {},
   "outputs": [],
   "source": [
    "import QuantumRingsLib\n",
    "from QuantumRingsLib import QuantumRegister, AncillaRegister, ClassicalRegister, QuantumCircuit\n",
    "from QuantumRingsLib import QuantumRingsProvider\n",
    "from QuantumRingsLib import job_monitor\n",
    "from QuantumRingsLib import JobStatus\n",
    "from matplotlib import pyplot as plt\n",
    "import numpy as np\n",
    "import math\n",
    "from math import gcd\n",
    "from random import randint\n",
    "from semiprimes import semiprimes\n",
    "\n",
    "  \n",
    "provider = QuantumRingsProvider(token =<YOUR_TOKEN_HERE>, name=<YOUR_ACCOUNT_NAME_HERE>)\n",
    "backend = provider.get_backend(\"scarlet_quantum_rings\")\n",
    "shots = 1024\n",
    "\n",
    "provider.active_account()"
   ]
  },
  {
   "cell_type": "code",
   "execution_count": null,
   "id": "02a37435-c607-49b8-8894-f5353e5ab8e1",
   "metadata": {},
   "outputs": [],
   "source": []
  },
  {
   "cell_type": "code",
   "execution_count": 2,
   "id": "dc2be924-64e1-4d08-8bb5-db5ffa954f57",
   "metadata": {},
   "outputs": [],
   "source": [
    "def modular_exponentiation(base, exp, mod):\n",
    "    \"\"\"Compute (base^exp) % mod efficiently.\"\"\"\n",
    "    result = 1\n",
    "    base = base % mod\n",
    "    while exp > 0:\n",
    "        if exp % 2 == 1:\n",
    "            result = (result * base) % mod\n",
    "        exp //= 2\n",
    "        base = (base * base) % mod\n",
    "    return result\n"
   ]
  },
  {
   "cell_type": "code",
   "execution_count": 3,
   "id": "f1dc19c8-6935-438f-9c41-9bf4e186f64a",
   "metadata": {},
   "outputs": [],
   "source": [
    "def quantum_fourier_transform(n):\n",
    "    \"\"\"Create QFT circuit.\"\"\"\n",
    "    qc = QuantumCircuit(n)\n",
    "    for i in range(n):\n",
    "        qc.h(i)\n",
    "        for j in range(i+1, n):\n",
    "            qc.cp(2*np.pi/2**(j-i+1), i, j)\n",
    "    return qc\n"
   ]
  },
  {
   "cell_type": "code",
   "execution_count": 4,
   "id": "91deeb27-f975-443b-9c8d-7842195abfb6",
   "metadata": {},
   "outputs": [],
   "source": [
    "def extract_period(counts, N, a):\n",
    "    \"\"\"Extract period r where a^r ≡ 1 (mod N)\"\"\"\n",
    "    # First find quantum measurement differences\n",
    "    measured_values = [int(key, 2) for key in counts.keys()]\n",
    "    measured_values.sort()\n",
    "    \n",
    "    # Calculate possible periods from measurements\n",
    "    periods = []\n",
    "    for i in range(1, len(measured_values)):\n",
    "        r = measured_values[i] - measured_values[i-1]\n",
    "        if r > 0:\n",
    "            periods.append(r)\n",
    "    \n",
    "    # Verify each candidate period\n",
    "    for r in periods:\n",
    "        if modular_exponentiation(a, r, N) == 1:\n",
    "            return r\n",
    "            \n",
    "    # Direct period calculation if measurement fails\n",
    "    for r in range(1, N):\n",
    "        if modular_exponentiation(a, r, N) == 1:\n",
    "            return r\n",
    "            \n",
    "    return None\n"
   ]
  },
  {
   "cell_type": "code",
   "execution_count": 5,
   "id": "7311db40-0f18-4c0b-b3c0-aa366b4e13a5",
   "metadata": {},
   "outputs": [],
   "source": [
    "def run_shor_algorithm(N, a):\n",
    "    \"\"\"Run Shor's algorithm.\"\"\"\n",
    "    if gcd(a, N) != 1:\n",
    "        return gcd(a, N), N // gcd(a, N)\n",
    "\n",
    "    # Create quantum circuit\n",
    "    n_count = 8  # Number of counting qubits\n",
    "    num_target_qubits = int(np.ceil(np.log2(N)))\n",
    "    \n",
    "    qc = QuantumCircuit(n_count + num_target_qubits, n_count)\n",
    "    \n",
    "    # Initialize counting qubits\n",
    "    for q in range(n_count):\n",
    "        qc.h(q)\n",
    "    qc.barrier()\n",
    "    \n",
    "    # Controlled modular multiplication\n",
    "    for i in range(n_count):\n",
    "        power = 2**i\n",
    "        for target in range(num_target_qubits):\n",
    "            factor = pow(a, power, N)\n",
    "            angle = 2 * np.pi * factor / N\n",
    "            qc.cp(angle, i, n_count + target)\n",
    "    qc.barrier()\n",
    "    \n",
    "    # Inverse QFT\n",
    "    for i in reversed(range(n_count)):\n",
    "        for j in range(i):\n",
    "            qc.cp(-np.pi/2**(i-j), j, i)\n",
    "        qc.h(i)\n",
    "    qc.barrier()\n",
    "    \n",
    "    # Measure\n",
    "    qc.measure(range(n_count), range(n_count))\n",
    "    #print(qc.draw())\n",
    "    \n",
    "    # Execute\n",
    "    job = backend.run(qc, shots=shots)\n",
    "    job_monitor(job)\n",
    "    result = job.result()\n",
    "    counts = result.get_counts()\n",
    "\n",
    "    # simulator = AerSimulator()\n",
    "    # job = simulator.run(transpile(qc, simulator), shots=1024)\n",
    "    # counts = job.result().get_counts()\n",
    "    \n",
    "        # Extract period - Updated to pass 'a'\n",
    "    r = extract_period(counts, N, a)\n",
    "    if not r:\n",
    "        return None, None\n",
    "        \n",
    "    if r % 2 != 0:\n",
    "        return None, None\n",
    "        \n",
    "    factor1 = gcd(modular_exponentiation(a, r//2, N) - 1, N)\n",
    "    factor2 = gcd(modular_exponentiation(a, r//2, N) + 1, N)\n",
    "    \n",
    "    if factor1 * factor2 != N:\n",
    "        return None, None\n",
    "\n",
    "    return factor1, factor2\n"
   ]
  },
  {
   "cell_type": "code",
   "execution_count": null,
   "id": "9771e150-f71b-497a-bc8a-06ed6f5318fa",
   "metadata": {},
   "outputs": [],
   "source": [
    "def shor_for_random_a(N):\n",
    "\n",
    "    ran1=0\n",
    "    ran2=0\n",
    "\n",
    "    while ran2<int(np.sqrt(N)):\n",
    "\n",
    "        while ran1<10000:\n",
    "            a = randint(2,int(N/2))\n",
    "            if gcd(a,N)==a:\n",
    "                break\n",
    "            ran1+=1\n",
    "\n",
    "        factors = run_shor_algorithm(N, a)\n",
    "        \n",
    "        if factors and factors[0] and factors[1]:\n",
    "            \n",
    "            if factors[0]!=1 or factors[1]!=1:\n",
    "                print(f\"Factors of {N} are: {factors[0]} and {factors[1]}, with a = {a}\")\n",
    "                return factors\n",
    "            else:\n",
    "                print(f\"Failed to find factor of {N} with a = {a}. Try again.\")\n",
    "                \n",
    "        else:\n",
    "            print(f\"Failed to find factor of {N} with a = {a}. Try again.\")\n",
    "        ran2+=1"
   ]
  },
  {
   "cell_type": "code",
   "execution_count": 7,
   "id": "2f68d9ce-1cc8-444c-a382-76657729810a",
   "metadata": {},
   "outputs": [
    {
     "data": {
      "text/plain": [
       "125"
      ]
     },
     "execution_count": 7,
     "metadata": {},
     "output_type": "execute_result"
    }
   ],
   "source": [
    "len(semiprimes)"
   ]
  },
  {
   "cell_type": "code",
   "execution_count": 8,
   "id": "47d086c2-5b1a-43ec-bc33-d5ede2644ce8",
   "metadata": {},
   "outputs": [
    {
     "data": {
      "text/plain": [
       "dict_keys([8, 10, 12, 14, 16, 18, 20, 22, 24, 26, 28, 30, 32, 34, 36, 38, 40, 42, 44, 46, 48, 50, 52, 54, 56, 58, 60, 62, 64, 66, 68, 70, 72, 74, 76, 78, 80, 82, 84, 86, 88, 90, 92, 94, 96, 98, 100, 102, 104, 106, 108, 110, 112, 114, 116, 118, 120, 122, 124, 126, 128, 130, 132, 134, 136, 138, 140, 142, 144, 146, 148, 150, 152, 154, 156, 158, 160, 162, 164, 166, 168, 170, 172, 174, 176, 178, 180, 182, 184, 186, 188, 190, 192, 194, 196, 198, 200, 202, 204, 206, 208, 210, 212, 214, 216, 218, 220, 222, 224, 226, 228, 230, 232, 234, 236, 238, 240, 242, 244, 246, 248, 250, 252, 254, 256])"
      ]
     },
     "execution_count": 8,
     "metadata": {},
     "output_type": "execute_result"
    }
   ],
   "source": [
    "semiprimes.keys()"
   ]
  },
  {
   "cell_type": "code",
   "execution_count": 9,
   "id": "6dd66b3d-7010-47f0-b7ff-dd0fbcbde7b2",
   "metadata": {},
   "outputs": [
    {
     "name": "stdout",
     "output_type": "stream",
     "text": [
      "143\n",
      "Factors of 143 are: 13 and 11\n",
      "899\n",
      "Factors of 899 are: 31 and 29\n",
      "3127\n",
      "Factors of 3127 are: 53 and 59\n",
      "11009\n",
      "Factors of 11009 are: 101 and 109\n",
      "47053\n",
      "Factors of 47053 are: 223 and 211\n",
      "167659\n",
      "Job Queued\n",
      "Job Done.\n",
      "Ending Job Monitor\n",
      "Factors of 167659 are: 389 and 431\n",
      "744647\n",
      "Job Queued\n",
      "Job Done.\n",
      "Ending Job Monitor\n",
      "Factors of 744647 are: 907 and 821\n",
      "3036893\n",
      "Job Queued\n",
      "Job Done.\n",
      "Ending Job Monitor\n",
      "Factors of 3036893 are: 1777 and 1709\n",
      "11426971\n",
      "Job Queued\n",
      "Job Done.\n",
      "Ending Job Monitor\n",
      "Factors of 11426971 are: 1 and 11426971\n",
      "58949987\n",
      "Job Queued\n",
      "Job Done.\n",
      "Ending Job Monitor\n",
      "Failed to find factor of 58949987 with a = 26977317. Try again.\n",
      "Job Queued\n",
      "Job Done.\n",
      "Ending Job Monitor\n",
      "Failed to find factor of 58949987 with a = 26977317. Try again.\n",
      "Job Queued\n",
      "Job Done.\n",
      "Ending Job Monitor\n",
      "Failed to find factor of 58949987 with a = 26977317. Try again.\n",
      "Job Queued\n",
      "Job Done.\n",
      "Ending Job Monitor\n",
      "Failed to find factor of 58949987 with a = 26977317. Try again.\n",
      "Job Queued\n",
      "Job Done.\n",
      "Ending Job Monitor\n",
      "Failed to find factor of 58949987 with a = 26977317. Try again.\n",
      "Job Queued\n",
      "Job Done.\n",
      "Ending Job Monitor\n",
      "Failed to find factor of 58949987 with a = 26977317. Try again.\n",
      "Job Queued\n",
      "Job Done.\n",
      "Ending Job Monitor\n"
     ]
    },
    {
     "ename": "KeyboardInterrupt",
     "evalue": "",
     "output_type": "error",
     "traceback": [
      "\u001b[0;31m---------------------------------------------------------------------------\u001b[0m",
      "\u001b[0;31mKeyboardInterrupt\u001b[0m                         Traceback (most recent call last)",
      "Cell \u001b[0;32mIn[9], line 5\u001b[0m\n\u001b[1;32m      2\u001b[0m N\u001b[38;5;241m=\u001b[39msemiprimes[key]\n\u001b[1;32m      3\u001b[0m \u001b[38;5;28mprint\u001b[39m(N)\n\u001b[0;32m----> 5\u001b[0m \u001b[43mshor_for_random_a\u001b[49m\u001b[43m(\u001b[49m\u001b[43mN\u001b[49m\u001b[43m)\u001b[49m\n",
      "Cell \u001b[0;32mIn[6], line 14\u001b[0m, in \u001b[0;36mshor_for_random_a\u001b[0;34m(N)\u001b[0m\n\u001b[1;32m     11\u001b[0m         \u001b[38;5;28;01mbreak\u001b[39;00m\n\u001b[1;32m     12\u001b[0m     ran1\u001b[38;5;241m+\u001b[39m\u001b[38;5;241m=\u001b[39m\u001b[38;5;241m1\u001b[39m\n\u001b[0;32m---> 14\u001b[0m factors \u001b[38;5;241m=\u001b[39m \u001b[43mrun_shor_algorithm\u001b[49m\u001b[43m(\u001b[49m\u001b[43mN\u001b[49m\u001b[43m,\u001b[49m\u001b[43m \u001b[49m\u001b[43ma\u001b[49m\u001b[43m)\u001b[49m\n\u001b[1;32m     15\u001b[0m \u001b[38;5;28;01mif\u001b[39;00m factors \u001b[38;5;129;01mand\u001b[39;00m factors[\u001b[38;5;241m0\u001b[39m] \u001b[38;5;129;01mand\u001b[39;00m factors[\u001b[38;5;241m1\u001b[39m]:\n\u001b[1;32m     17\u001b[0m     \u001b[38;5;28;01mif\u001b[39;00m factors[\u001b[38;5;241m0\u001b[39m]\u001b[38;5;241m!=\u001b[39m\u001b[38;5;241m1\u001b[39m \u001b[38;5;129;01mor\u001b[39;00m factors[\u001b[38;5;241m1\u001b[39m]\u001b[38;5;241m!=\u001b[39m\u001b[38;5;241m1\u001b[39m:\n",
      "Cell \u001b[0;32mIn[5], line 48\u001b[0m, in \u001b[0;36mrun_shor_algorithm\u001b[0;34m(N, a)\u001b[0m\n\u001b[1;32m     41\u001b[0m counts \u001b[38;5;241m=\u001b[39m result\u001b[38;5;241m.\u001b[39mget_counts()\n\u001b[1;32m     43\u001b[0m \u001b[38;5;66;03m# simulator = AerSimulator()\u001b[39;00m\n\u001b[1;32m     44\u001b[0m \u001b[38;5;66;03m# job = simulator.run(transpile(qc, simulator), shots=1024)\u001b[39;00m\n\u001b[1;32m     45\u001b[0m \u001b[38;5;66;03m# counts = job.result().get_counts()\u001b[39;00m\n\u001b[1;32m     46\u001b[0m \n\u001b[1;32m     47\u001b[0m     \u001b[38;5;66;03m# Extract period - Updated to pass 'a'\u001b[39;00m\n\u001b[0;32m---> 48\u001b[0m r \u001b[38;5;241m=\u001b[39m \u001b[43mextract_period\u001b[49m\u001b[43m(\u001b[49m\u001b[43mcounts\u001b[49m\u001b[43m,\u001b[49m\u001b[43m \u001b[49m\u001b[43mN\u001b[49m\u001b[43m,\u001b[49m\u001b[43m \u001b[49m\u001b[43ma\u001b[49m\u001b[43m)\u001b[49m\n\u001b[1;32m     49\u001b[0m \u001b[38;5;28;01mif\u001b[39;00m \u001b[38;5;129;01mnot\u001b[39;00m r:\n\u001b[1;32m     50\u001b[0m     \u001b[38;5;28;01mreturn\u001b[39;00m \u001b[38;5;28;01mNone\u001b[39;00m, \u001b[38;5;28;01mNone\u001b[39;00m\n",
      "Cell \u001b[0;32mIn[4], line 21\u001b[0m, in \u001b[0;36mextract_period\u001b[0;34m(counts, N, a)\u001b[0m\n\u001b[1;32m     19\u001b[0m \u001b[38;5;66;03m# Direct period calculation if measurement fails\u001b[39;00m\n\u001b[1;32m     20\u001b[0m \u001b[38;5;28;01mfor\u001b[39;00m r \u001b[38;5;129;01min\u001b[39;00m \u001b[38;5;28mrange\u001b[39m(\u001b[38;5;241m1\u001b[39m, N):\n\u001b[0;32m---> 21\u001b[0m     \u001b[38;5;28;01mif\u001b[39;00m \u001b[43mmodular_exponentiation\u001b[49m\u001b[43m(\u001b[49m\u001b[43ma\u001b[49m\u001b[43m,\u001b[49m\u001b[43m \u001b[49m\u001b[43mr\u001b[49m\u001b[43m,\u001b[49m\u001b[43m \u001b[49m\u001b[43mN\u001b[49m\u001b[43m)\u001b[49m \u001b[38;5;241m==\u001b[39m \u001b[38;5;241m1\u001b[39m:\n\u001b[1;32m     22\u001b[0m         \u001b[38;5;28;01mreturn\u001b[39;00m r\n\u001b[1;32m     24\u001b[0m \u001b[38;5;28;01mreturn\u001b[39;00m \u001b[38;5;28;01mNone\u001b[39;00m\n",
      "Cell \u001b[0;32mIn[2], line 5\u001b[0m, in \u001b[0;36mmodular_exponentiation\u001b[0;34m(base, exp, mod)\u001b[0m\n\u001b[1;32m      3\u001b[0m result \u001b[38;5;241m=\u001b[39m \u001b[38;5;241m1\u001b[39m\n\u001b[1;32m      4\u001b[0m base \u001b[38;5;241m=\u001b[39m base \u001b[38;5;241m%\u001b[39m mod\n\u001b[0;32m----> 5\u001b[0m \u001b[38;5;28;01mwhile\u001b[39;00m \u001b[43mexp\u001b[49m\u001b[43m \u001b[49m\u001b[38;5;241;43m>\u001b[39;49m\u001b[43m \u001b[49m\u001b[38;5;241;43m0\u001b[39;49m:\n\u001b[1;32m      6\u001b[0m     \u001b[38;5;28;01mif\u001b[39;00m exp \u001b[38;5;241m%\u001b[39m \u001b[38;5;241m2\u001b[39m \u001b[38;5;241m==\u001b[39m \u001b[38;5;241m1\u001b[39m:\n\u001b[1;32m      7\u001b[0m         result \u001b[38;5;241m=\u001b[39m (result \u001b[38;5;241m*\u001b[39m base) \u001b[38;5;241m%\u001b[39m mod\n",
      "\u001b[0;31mKeyboardInterrupt\u001b[0m: "
     ]
    }
   ],
   "source": [
    "for key in semiprimes.keys():\n",
    "    N=semiprimes[key]\n",
    "    print(N)\n",
    "    \n",
    "    shor_for_random_a(N)"
   ]
  },
  {
   "cell_type": "code",
   "execution_count": 10,
   "id": "6c132824-0ecc-4942-aec6-8ddfd272aebb",
   "metadata": {},
   "outputs": [
    {
     "name": "stdout",
     "output_type": "stream",
     "text": [
      "Job Queued\n",
      "Job Done.\n",
      "Ending Job Monitor\n",
      "Factors of 11426971 are: 3191 and 3581\n"
     ]
    },
    {
     "data": {
      "text/plain": [
       "(3191, 3581)"
      ]
     },
     "execution_count": 10,
     "metadata": {},
     "output_type": "execute_result"
    }
   ],
   "source": [
    "shor_for_random_a(11426971)"
   ]
  }
 ],
 "metadata": {
  "kernelspec": {
   "display_name": "Python 3 QuantumRings",
   "language": "python",
   "name": "python3_quantu_8bt6c1"
  },
  "language_info": {
   "codemirror_mode": {
    "name": "ipython",
    "version": 3
   },
   "file_extension": ".py",
   "mimetype": "text/x-python",
   "name": "python",
   "nbconvert_exporter": "python",
   "pygments_lexer": "ipython3",
   "version": "3.11.9"
  }
 },
 "nbformat": 4,
 "nbformat_minor": 5
}
